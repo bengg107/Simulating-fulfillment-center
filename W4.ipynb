{
 "cells": [
  {
   "cell_type": "code",
   "execution_count": 1,
   "id": "739243c0-fa55-478a-8e16-5feb42f2bafb",
   "metadata": {},
   "outputs": [],
   "source": [
    "#INMAS Worksop4: Group A: Simulating fulfillment center\n",
    "# @c: Ben, Issac, Sultan, Vlassis, Yantao\n",
    "# for 1<=i<=M, the i-th order has length n_i = sum_j n_ij where n_ij means the number of product j in i-th order (1<=j<=N).\n",
    "# we consider the following setup: (for any i) n_ij ~ Geom(1/(1+|w_j|))-1 where w_j ~ N(0,1). Here we assume n_ij are independent in i\n"
   ]
  },
  {
   "cell_type": "code",
   "execution_count": 66,
   "id": "6e6eded1-08b4-4a29-a71e-c9be6c12efbc",
   "metadata": {},
   "outputs": [
    {
     "name": "stdout",
     "output_type": "stream",
     "text": [
      "[0.09202473 0.78257594 1.2312475  1.64979971 0.40424411 1.39848216\n",
      " 0.6905179  0.12272271 0.44964487 0.51346153]\n",
      "[[0 1 0 2 1 0 1 0 1 0]\n",
      " [0 0 1 6 0 3 0 0 0 0]\n",
      " [0 0 0 1 0 1 2 0 2 0]\n",
      " [0 5 4 1 0 1 1 0 0 1]\n",
      " [1 1 0 2 1 1 1 0 0 0]]\n"
     ]
    }
   ],
   "source": [
    "import numpy as np\n",
    "N = 10\n",
    "M = 5\n",
    "omega = np.random.normal(0, 1, N)\n",
    "omega = abs(omega)\n",
    "nij   = np.random.geometric(p=1/(1+omega) ,size=(M,N)) -1\n",
    "print(omega)\n",
    "print(nij)"
   ]
  },
  {
   "cell_type": "code",
   "execution_count": 67,
   "id": "b9889eb0-3f9f-4fb3-a339-10b4c84fc655",
   "metadata": {},
   "outputs": [
    {
     "data": {
      "text/plain": [
       "[array([1., 3., 3., 4., 6., 8.]),\n",
       " array([2., 3., 3., 3., 3., 3., 3., 5., 5., 5.]),\n",
       " array([3., 5., 6., 6., 8., 8.]),\n",
       " array([1., 1., 1., 1., 1., 2., 2., 2., 2., 3., 5., 6., 9.]),\n",
       " array([0., 1., 3., 3., 4., 5., 6.])]"
      ]
     },
     "execution_count": 67,
     "metadata": {},
     "output_type": "execute_result"
    }
   ],
   "source": [
    "orderbook = []\n",
    "for i in range(M): \n",
    "    orderbook.append(np.concatenate([[j]*nij[i,j] for j in range(N)]))\n",
    "orderbook"
   ]
  },
  {
   "cell_type": "code",
   "execution_count": null,
   "id": "9c44704f-62fe-48a7-9998-c27b22afce90",
   "metadata": {},
   "outputs": [],
   "source": []
  },
  {
   "cell_type": "code",
   "execution_count": null,
   "id": "fd569883-00cd-435c-aeeb-d0b2b3473c70",
   "metadata": {},
   "outputs": [],
   "source": []
  }
 ],
 "metadata": {
  "kernelspec": {
   "display_name": "Python 3 (ipykernel)",
   "language": "python",
   "name": "python3"
  },
  "language_info": {
   "codemirror_mode": {
    "name": "ipython",
    "version": 3
   },
   "file_extension": ".py",
   "mimetype": "text/x-python",
   "name": "python",
   "nbconvert_exporter": "python",
   "pygments_lexer": "ipython3",
   "version": "3.11.5"
  }
 },
 "nbformat": 4,
 "nbformat_minor": 5
}
